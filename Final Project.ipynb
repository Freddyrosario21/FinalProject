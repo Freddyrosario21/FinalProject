{
 "cells": [
  {
   "cell_type": "code",
   "execution_count": null,
   "id": "87d2595e",
   "metadata": {},
   "outputs": [],
   "source": [
    "####In this investigation, I am going to work with the advertising data marketing. \n",
    "###I am going try to predict what specific user would click on an advertisement.\n"
   ]
  },
  {
   "cell_type": "code",
   "execution_count": 70,
   "id": "5d077250",
   "metadata": {},
   "outputs": [],
   "source": [
    "import pandas as pd\n",
    "import numpy as np\n",
    "import statsmodels.formula.api as sm\n",
    "from matplotlib import pyplot as plt\n",
    "%matplotlib inline\n",
    "import seaborn as sns"
   ]
  },
  {
   "cell_type": "code",
   "execution_count": 71,
   "id": "86fe6192",
   "metadata": {
    "scrolled": true
   },
   "outputs": [
    {
     "data": {
      "text/html": [
       "<div>\n",
       "<style scoped>\n",
       "    .dataframe tbody tr th:only-of-type {\n",
       "        vertical-align: middle;\n",
       "    }\n",
       "\n",
       "    .dataframe tbody tr th {\n",
       "        vertical-align: top;\n",
       "    }\n",
       "\n",
       "    .dataframe thead th {\n",
       "        text-align: right;\n",
       "    }\n",
       "</style>\n",
       "<table border=\"1\" class=\"dataframe\">\n",
       "  <thead>\n",
       "    <tr style=\"text-align: right;\">\n",
       "      <th></th>\n",
       "      <th>Daily Time Spent on Site</th>\n",
       "      <th>Age</th>\n",
       "      <th>Area Income</th>\n",
       "      <th>Daily Internet Usage</th>\n",
       "      <th>Ad Topic Line</th>\n",
       "      <th>City</th>\n",
       "      <th>Gender</th>\n",
       "      <th>Country</th>\n",
       "      <th>Timestamp</th>\n",
       "      <th>Clicked on Ad</th>\n",
       "    </tr>\n",
       "  </thead>\n",
       "  <tbody>\n",
       "    <tr>\n",
       "      <th>0</th>\n",
       "      <td>68.95</td>\n",
       "      <td>35.0</td>\n",
       "      <td>61833.90</td>\n",
       "      <td>256.09</td>\n",
       "      <td>Cloned 5thgeneration orchestration</td>\n",
       "      <td>Wrightburgh</td>\n",
       "      <td>Female</td>\n",
       "      <td>Tunisia</td>\n",
       "      <td>27-03-2016 00:53</td>\n",
       "      <td>0</td>\n",
       "    </tr>\n",
       "    <tr>\n",
       "      <th>1</th>\n",
       "      <td>NaN</td>\n",
       "      <td>31.0</td>\n",
       "      <td>68441.85</td>\n",
       "      <td>193.77</td>\n",
       "      <td>Monitored national standardization</td>\n",
       "      <td>West Jodi</td>\n",
       "      <td>Male</td>\n",
       "      <td>Nauru</td>\n",
       "      <td>04-04-2016 01:39</td>\n",
       "      <td>0</td>\n",
       "    </tr>\n",
       "    <tr>\n",
       "      <th>2</th>\n",
       "      <td>69.47</td>\n",
       "      <td>26.0</td>\n",
       "      <td>59785.94</td>\n",
       "      <td>236.50</td>\n",
       "      <td>Organic bottom-line service-desk</td>\n",
       "      <td>Davidton</td>\n",
       "      <td>Female</td>\n",
       "      <td>San Marino</td>\n",
       "      <td>13-03-2016 20:35</td>\n",
       "      <td>0</td>\n",
       "    </tr>\n",
       "    <tr>\n",
       "      <th>3</th>\n",
       "      <td>74.15</td>\n",
       "      <td>29.0</td>\n",
       "      <td>54806.18</td>\n",
       "      <td>245.89</td>\n",
       "      <td>Triple-buffered reciprocal time-frame</td>\n",
       "      <td>West Terrifurt</td>\n",
       "      <td>Male</td>\n",
       "      <td>Italy</td>\n",
       "      <td>10-01-2016 02:31</td>\n",
       "      <td>0</td>\n",
       "    </tr>\n",
       "    <tr>\n",
       "      <th>4</th>\n",
       "      <td>68.37</td>\n",
       "      <td>35.0</td>\n",
       "      <td>73889.99</td>\n",
       "      <td>225.58</td>\n",
       "      <td>Robust logistical utilization</td>\n",
       "      <td>South Manuel</td>\n",
       "      <td>Female</td>\n",
       "      <td>Iceland</td>\n",
       "      <td>03-06-2016 03:36</td>\n",
       "      <td>0</td>\n",
       "    </tr>\n",
       "    <tr>\n",
       "      <th>5</th>\n",
       "      <td>59.99</td>\n",
       "      <td>23.0</td>\n",
       "      <td>59761.56</td>\n",
       "      <td>226.74</td>\n",
       "      <td>Sharable client-driven software</td>\n",
       "      <td>NaN</td>\n",
       "      <td>Male</td>\n",
       "      <td>Norway</td>\n",
       "      <td>19-05-2016 14:30</td>\n",
       "      <td>0</td>\n",
       "    </tr>\n",
       "    <tr>\n",
       "      <th>6</th>\n",
       "      <td>88.91</td>\n",
       "      <td>33.0</td>\n",
       "      <td>53852.85</td>\n",
       "      <td>208.36</td>\n",
       "      <td>Enhanced dedicated support</td>\n",
       "      <td>Brandonstad</td>\n",
       "      <td>Female</td>\n",
       "      <td>Myanmar</td>\n",
       "      <td>28-01-2016 20:59</td>\n",
       "      <td>0</td>\n",
       "    </tr>\n",
       "    <tr>\n",
       "      <th>7</th>\n",
       "      <td>NaN</td>\n",
       "      <td>48.0</td>\n",
       "      <td>24593.33</td>\n",
       "      <td>131.76</td>\n",
       "      <td>Reactive local challenge</td>\n",
       "      <td>Port Jefferybury</td>\n",
       "      <td>Male</td>\n",
       "      <td>Australia</td>\n",
       "      <td>07-03-2016 01:40</td>\n",
       "      <td>1</td>\n",
       "    </tr>\n",
       "    <tr>\n",
       "      <th>8</th>\n",
       "      <td>74.53</td>\n",
       "      <td>30.0</td>\n",
       "      <td>NaN</td>\n",
       "      <td>221.51</td>\n",
       "      <td>Configurable coherent function</td>\n",
       "      <td>West Colin</td>\n",
       "      <td>Male</td>\n",
       "      <td>Grenada</td>\n",
       "      <td>18-04-2016 09:33</td>\n",
       "      <td>0</td>\n",
       "    </tr>\n",
       "    <tr>\n",
       "      <th>9</th>\n",
       "      <td>69.88</td>\n",
       "      <td>20.0</td>\n",
       "      <td>55642.32</td>\n",
       "      <td>183.82</td>\n",
       "      <td>Mandatory homogeneous architecture</td>\n",
       "      <td>Ramirezton</td>\n",
       "      <td>Male</td>\n",
       "      <td>Ghana</td>\n",
       "      <td>11-07-2016 01:42</td>\n",
       "      <td>0</td>\n",
       "    </tr>\n",
       "  </tbody>\n",
       "</table>\n",
       "</div>"
      ],
      "text/plain": [
       "   Daily Time Spent on Site   Age  Area Income  Daily Internet Usage  \\\n",
       "0                     68.95  35.0     61833.90                256.09   \n",
       "1                       NaN  31.0     68441.85                193.77   \n",
       "2                     69.47  26.0     59785.94                236.50   \n",
       "3                     74.15  29.0     54806.18                245.89   \n",
       "4                     68.37  35.0     73889.99                225.58   \n",
       "5                     59.99  23.0     59761.56                226.74   \n",
       "6                     88.91  33.0     53852.85                208.36   \n",
       "7                       NaN  48.0     24593.33                131.76   \n",
       "8                     74.53  30.0          NaN                221.51   \n",
       "9                     69.88  20.0     55642.32                183.82   \n",
       "\n",
       "                           Ad Topic Line              City  Gender  \\\n",
       "0     Cloned 5thgeneration orchestration       Wrightburgh  Female   \n",
       "1     Monitored national standardization         West Jodi    Male   \n",
       "2       Organic bottom-line service-desk          Davidton  Female   \n",
       "3  Triple-buffered reciprocal time-frame    West Terrifurt    Male   \n",
       "4          Robust logistical utilization      South Manuel  Female   \n",
       "5        Sharable client-driven software               NaN    Male   \n",
       "6             Enhanced dedicated support       Brandonstad  Female   \n",
       "7               Reactive local challenge  Port Jefferybury    Male   \n",
       "8         Configurable coherent function        West Colin    Male   \n",
       "9     Mandatory homogeneous architecture        Ramirezton    Male   \n",
       "\n",
       "      Country         Timestamp  Clicked on Ad  \n",
       "0     Tunisia  27-03-2016 00:53              0  \n",
       "1       Nauru  04-04-2016 01:39              0  \n",
       "2  San Marino  13-03-2016 20:35              0  \n",
       "3       Italy  10-01-2016 02:31              0  \n",
       "4     Iceland  03-06-2016 03:36              0  \n",
       "5      Norway  19-05-2016 14:30              0  \n",
       "6     Myanmar  28-01-2016 20:59              0  \n",
       "7   Australia  07-03-2016 01:40              1  \n",
       "8     Grenada  18-04-2016 09:33              0  \n",
       "9       Ghana  11-07-2016 01:42              0  "
      ]
     },
     "execution_count": 71,
     "metadata": {},
     "output_type": "execute_result"
    }
   ],
   "source": [
    "##here we call the dataset, and we see the 10 first row in the dataset\n",
    "\n",
    "df = pd.read_csv(\"advertising_ef.csv\")\n",
    "df.head(10)"
   ]
  },
  {
   "cell_type": "code",
   "execution_count": 72,
   "id": "ae815ce9",
   "metadata": {},
   "outputs": [
    {
     "name": "stdout",
     "output_type": "stream",
     "text": [
      "<class 'pandas.core.frame.DataFrame'>\n",
      "RangeIndex: 1009 entries, 0 to 1008\n",
      "Data columns (total 10 columns):\n",
      " #   Column                    Non-Null Count  Dtype  \n",
      "---  ------                    --------------  -----  \n",
      " 0   Daily Time Spent on Site  1005 non-null   float64\n",
      " 1   Age                       998 non-null    float64\n",
      " 2   Area Income               998 non-null    float64\n",
      " 3   Daily Internet Usage      1005 non-null   float64\n",
      " 4   Ad Topic Line             1009 non-null   object \n",
      " 5   City                      998 non-null    object \n",
      " 6   Gender                    1009 non-null   object \n",
      " 7   Country                   996 non-null    object \n",
      " 8   Timestamp                 1009 non-null   object \n",
      " 9   Clicked on Ad             1009 non-null   int64  \n",
      "dtypes: float64(4), int64(1), object(5)\n",
      "memory usage: 79.0+ KB\n"
     ]
    }
   ],
   "source": [
    "##lets looks for all the numbers and the datatype of this dataset\n",
    "\n",
    "df.info()"
   ]
  },
  {
   "cell_type": "code",
   "execution_count": 73,
   "id": "c2d4ef6e",
   "metadata": {},
   "outputs": [
    {
     "data": {
      "text/plain": [
       "Daily Time Spent on Site     4\n",
       "Age                         11\n",
       "Area Income                 11\n",
       "Daily Internet Usage         4\n",
       "Ad Topic Line                0\n",
       "City                        11\n",
       "Gender                       0\n",
       "Country                     13\n",
       "Timestamp                    0\n",
       "Clicked on Ad                0\n",
       "dtype: int64"
      ]
     },
     "execution_count": 73,
     "metadata": {},
     "output_type": "execute_result"
    }
   ],
   "source": [
    "##lets look for missing information\n",
    "\n",
    "df.isnull().sum()"
   ]
  },
  {
   "cell_type": "code",
   "execution_count": 74,
   "id": "372b6c0b",
   "metadata": {},
   "outputs": [
    {
     "name": "stdout",
     "output_type": "stream",
     "text": [
      "65.00946268656728\n"
     ]
    }
   ],
   "source": [
    "# Replace the missing data in \"Daily Time Spent on Site\", \"Age\", \"Area Income\" and \"Daily Internet Usage\"  \n",
    "## with the average of them \n",
    "\n",
    "print(df[\"Daily Time Spent on Site\"].mean())\n",
    "\n",
    "df[\"Daily Time Spent on Site\"].fillna(65.00946268656728, inplace = True)"
   ]
  },
  {
   "cell_type": "code",
   "execution_count": 75,
   "id": "c42f11fd",
   "metadata": {},
   "outputs": [
    {
     "name": "stdout",
     "output_type": "stream",
     "text": [
      "35.96292585170341\n"
     ]
    }
   ],
   "source": [
    "print(df[\"Age\"].mean())\n",
    "\n",
    "df[\"Age\"].fillna(35.96292585170341, inplace = True)"
   ]
  },
  {
   "cell_type": "code",
   "execution_count": 76,
   "id": "8f57f6f2",
   "metadata": {},
   "outputs": [
    {
     "name": "stdout",
     "output_type": "stream",
     "text": [
      "54958.573617234484\n"
     ]
    }
   ],
   "source": [
    "print(df[\"Area Income\"].mean())\n",
    "\n",
    "df[\"Area Income\"].fillna(54958.573617234484, inplace = True)"
   ]
  },
  {
   "cell_type": "code",
   "execution_count": 77,
   "id": "ebcca4f6",
   "metadata": {},
   "outputs": [
    {
     "name": "stdout",
     "output_type": "stream",
     "text": [
      "180.04192039801\n"
     ]
    }
   ],
   "source": [
    "print(df[\"Daily Internet Usage\"].mean())\n",
    "\n",
    "df[\"Daily Internet Usage\"].fillna(180.04192039801, inplace = True)"
   ]
  },
  {
   "cell_type": "code",
   "execution_count": 78,
   "id": "274badfc",
   "metadata": {},
   "outputs": [],
   "source": [
    "## there is a few more missing information, so I procceded to remove them\n",
    "\n",
    "## Remove the rows in the dataset \"City\" that has missing  data.\n",
    "\n",
    "\n",
    "df.dropna(subset=[\"City\"], inplace = True)"
   ]
  },
  {
   "cell_type": "code",
   "execution_count": 79,
   "id": "1b7836eb",
   "metadata": {},
   "outputs": [],
   "source": [
    "## Remove the rows in the dataset \"Country\" that has missing  data.\n",
    "\n",
    "df.dropna(subset=[\"Country\"], inplace = True)"
   ]
  },
  {
   "cell_type": "code",
   "execution_count": 80,
   "id": "0f9b3839",
   "metadata": {},
   "outputs": [
    {
     "data": {
      "text/plain": [
       "Daily Time Spent on Site    0\n",
       "Age                         0\n",
       "Area Income                 0\n",
       "Daily Internet Usage        0\n",
       "Ad Topic Line               0\n",
       "City                        0\n",
       "Gender                      0\n",
       "Country                     0\n",
       "Timestamp                   0\n",
       "Clicked on Ad               0\n",
       "dtype: int64"
      ]
     },
     "execution_count": 80,
     "metadata": {},
     "output_type": "execute_result"
    }
   ],
   "source": [
    "# Recheck is there is any missing data in the dataset.\n",
    "\n",
    "df.isnull().sum()"
   ]
  },
  {
   "cell_type": "code",
   "execution_count": 81,
   "id": "dace78b6",
   "metadata": {},
   "outputs": [],
   "source": [
    "## removing unnecessary column in the dataset\n",
    "\n",
    "df.drop(columns=[\"Timestamp\"], inplace = True)\n",
    "\n"
   ]
  },
  {
   "cell_type": "code",
   "execution_count": 82,
   "id": "e7648de6",
   "metadata": {},
   "outputs": [],
   "source": [
    "## I decided to remove the column which I think Its not necessary\n",
    "\n",
    "df.drop(columns=[\"City\"], inplace = True)"
   ]
  },
  {
   "cell_type": "code",
   "execution_count": 83,
   "id": "893ff272",
   "metadata": {},
   "outputs": [],
   "source": [
    "## Replacing the value (0,1) to \"clicked\" and \" did not clicked\" on the column \"Clicked on Ad\"\n",
    "\n",
    "df[\"Clicked on Ad\"].replace([0, 1], [\"Did Not Click\", \"Clicked\"], inplace = True)"
   ]
  },
  {
   "cell_type": "code",
   "execution_count": 84,
   "id": "d0fa9330",
   "metadata": {},
   "outputs": [
    {
     "data": {
      "text/html": [
       "<div>\n",
       "<style scoped>\n",
       "    .dataframe tbody tr th:only-of-type {\n",
       "        vertical-align: middle;\n",
       "    }\n",
       "\n",
       "    .dataframe tbody tr th {\n",
       "        vertical-align: top;\n",
       "    }\n",
       "\n",
       "    .dataframe thead th {\n",
       "        text-align: right;\n",
       "    }\n",
       "</style>\n",
       "<table border=\"1\" class=\"dataframe\">\n",
       "  <thead>\n",
       "    <tr style=\"text-align: right;\">\n",
       "      <th></th>\n",
       "      <th>Daily Time Spent on Site</th>\n",
       "      <th>Age</th>\n",
       "      <th>Area Income</th>\n",
       "      <th>Daily Internet Usage</th>\n",
       "      <th>Ad Topic Line</th>\n",
       "      <th>Gender</th>\n",
       "      <th>Country</th>\n",
       "      <th>Clicked on Ad</th>\n",
       "    </tr>\n",
       "  </thead>\n",
       "  <tbody>\n",
       "    <tr>\n",
       "      <th>0</th>\n",
       "      <td>68.950000</td>\n",
       "      <td>35.0</td>\n",
       "      <td>61833.900000</td>\n",
       "      <td>256.09</td>\n",
       "      <td>Cloned 5thgeneration orchestration</td>\n",
       "      <td>Female</td>\n",
       "      <td>Tunisia</td>\n",
       "      <td>Did Not Click</td>\n",
       "    </tr>\n",
       "    <tr>\n",
       "      <th>1</th>\n",
       "      <td>65.009463</td>\n",
       "      <td>31.0</td>\n",
       "      <td>68441.850000</td>\n",
       "      <td>193.77</td>\n",
       "      <td>Monitored national standardization</td>\n",
       "      <td>Male</td>\n",
       "      <td>Nauru</td>\n",
       "      <td>Did Not Click</td>\n",
       "    </tr>\n",
       "    <tr>\n",
       "      <th>2</th>\n",
       "      <td>69.470000</td>\n",
       "      <td>26.0</td>\n",
       "      <td>59785.940000</td>\n",
       "      <td>236.50</td>\n",
       "      <td>Organic bottom-line service-desk</td>\n",
       "      <td>Female</td>\n",
       "      <td>San Marino</td>\n",
       "      <td>Did Not Click</td>\n",
       "    </tr>\n",
       "    <tr>\n",
       "      <th>3</th>\n",
       "      <td>74.150000</td>\n",
       "      <td>29.0</td>\n",
       "      <td>54806.180000</td>\n",
       "      <td>245.89</td>\n",
       "      <td>Triple-buffered reciprocal time-frame</td>\n",
       "      <td>Male</td>\n",
       "      <td>Italy</td>\n",
       "      <td>Did Not Click</td>\n",
       "    </tr>\n",
       "    <tr>\n",
       "      <th>4</th>\n",
       "      <td>68.370000</td>\n",
       "      <td>35.0</td>\n",
       "      <td>73889.990000</td>\n",
       "      <td>225.58</td>\n",
       "      <td>Robust logistical utilization</td>\n",
       "      <td>Female</td>\n",
       "      <td>Iceland</td>\n",
       "      <td>Did Not Click</td>\n",
       "    </tr>\n",
       "    <tr>\n",
       "      <th>6</th>\n",
       "      <td>88.910000</td>\n",
       "      <td>33.0</td>\n",
       "      <td>53852.850000</td>\n",
       "      <td>208.36</td>\n",
       "      <td>Enhanced dedicated support</td>\n",
       "      <td>Female</td>\n",
       "      <td>Myanmar</td>\n",
       "      <td>Did Not Click</td>\n",
       "    </tr>\n",
       "    <tr>\n",
       "      <th>7</th>\n",
       "      <td>65.009463</td>\n",
       "      <td>48.0</td>\n",
       "      <td>24593.330000</td>\n",
       "      <td>131.76</td>\n",
       "      <td>Reactive local challenge</td>\n",
       "      <td>Male</td>\n",
       "      <td>Australia</td>\n",
       "      <td>Clicked</td>\n",
       "    </tr>\n",
       "    <tr>\n",
       "      <th>8</th>\n",
       "      <td>74.530000</td>\n",
       "      <td>30.0</td>\n",
       "      <td>54958.573617</td>\n",
       "      <td>221.51</td>\n",
       "      <td>Configurable coherent function</td>\n",
       "      <td>Male</td>\n",
       "      <td>Grenada</td>\n",
       "      <td>Did Not Click</td>\n",
       "    </tr>\n",
       "    <tr>\n",
       "      <th>9</th>\n",
       "      <td>69.880000</td>\n",
       "      <td>20.0</td>\n",
       "      <td>55642.320000</td>\n",
       "      <td>183.82</td>\n",
       "      <td>Mandatory homogeneous architecture</td>\n",
       "      <td>Male</td>\n",
       "      <td>Ghana</td>\n",
       "      <td>Did Not Click</td>\n",
       "    </tr>\n",
       "    <tr>\n",
       "      <th>10</th>\n",
       "      <td>47.640000</td>\n",
       "      <td>49.0</td>\n",
       "      <td>45632.510000</td>\n",
       "      <td>122.02</td>\n",
       "      <td>Centralized neutral neural-net</td>\n",
       "      <td>Female</td>\n",
       "      <td>Qatar</td>\n",
       "      <td>Clicked</td>\n",
       "    </tr>\n",
       "  </tbody>\n",
       "</table>\n",
       "</div>"
      ],
      "text/plain": [
       "    Daily Time Spent on Site   Age   Area Income  Daily Internet Usage  \\\n",
       "0                  68.950000  35.0  61833.900000                256.09   \n",
       "1                  65.009463  31.0  68441.850000                193.77   \n",
       "2                  69.470000  26.0  59785.940000                236.50   \n",
       "3                  74.150000  29.0  54806.180000                245.89   \n",
       "4                  68.370000  35.0  73889.990000                225.58   \n",
       "6                  88.910000  33.0  53852.850000                208.36   \n",
       "7                  65.009463  48.0  24593.330000                131.76   \n",
       "8                  74.530000  30.0  54958.573617                221.51   \n",
       "9                  69.880000  20.0  55642.320000                183.82   \n",
       "10                 47.640000  49.0  45632.510000                122.02   \n",
       "\n",
       "                            Ad Topic Line  Gender     Country  Clicked on Ad  \n",
       "0      Cloned 5thgeneration orchestration  Female     Tunisia  Did Not Click  \n",
       "1      Monitored national standardization    Male       Nauru  Did Not Click  \n",
       "2        Organic bottom-line service-desk  Female  San Marino  Did Not Click  \n",
       "3   Triple-buffered reciprocal time-frame    Male       Italy  Did Not Click  \n",
       "4           Robust logistical utilization  Female     Iceland  Did Not Click  \n",
       "6              Enhanced dedicated support  Female     Myanmar  Did Not Click  \n",
       "7                Reactive local challenge    Male   Australia        Clicked  \n",
       "8          Configurable coherent function    Male     Grenada  Did Not Click  \n",
       "9      Mandatory homogeneous architecture    Male       Ghana  Did Not Click  \n",
       "10         Centralized neutral neural-net  Female       Qatar        Clicked  "
      ]
     },
     "execution_count": 84,
     "metadata": {},
     "output_type": "execute_result"
    }
   ],
   "source": [
    "## Double checking the dataset\n",
    "\n",
    "df.head(10)"
   ]
  },
  {
   "cell_type": "code",
   "execution_count": 85,
   "id": "6603d7e3",
   "metadata": {},
   "outputs": [],
   "source": [
    "## Creating a column called \"Age Group\" to group Users by their age \n",
    "## (create 4 categories: (teen, young adult, adult, senior)\n",
    "\n",
    "## teen = 13.1 - 18\n",
    "## young adult = 18.1 - 30\n",
    "## adult = 30.1 - 65\n",
    "## senior = 65+\n",
    "\n",
    "bins = [13, 21, 30, 60, 150]\n",
    "bin_names = [\"Young (13 - 20)\", \"Young adult (21 - 29)\", \"Adult (30 - 59)\", \"Senior (60 +)\"]\n",
    "\n",
    "df[\"Age Group\"] = pd.cut(df[\"Age\"], bins, labels=bin_names)\n",
    "\n"
   ]
  },
  {
   "cell_type": "code",
   "execution_count": 86,
   "id": "f19708f5",
   "metadata": {},
   "outputs": [
    {
     "data": {
      "text/html": [
       "<div>\n",
       "<style scoped>\n",
       "    .dataframe tbody tr th:only-of-type {\n",
       "        vertical-align: middle;\n",
       "    }\n",
       "\n",
       "    .dataframe tbody tr th {\n",
       "        vertical-align: top;\n",
       "    }\n",
       "\n",
       "    .dataframe thead th {\n",
       "        text-align: right;\n",
       "    }\n",
       "</style>\n",
       "<table border=\"1\" class=\"dataframe\">\n",
       "  <thead>\n",
       "    <tr style=\"text-align: right;\">\n",
       "      <th></th>\n",
       "      <th>Daily Time Spent on Site</th>\n",
       "      <th>Age</th>\n",
       "      <th>Area Income</th>\n",
       "      <th>Daily Internet Usage</th>\n",
       "      <th>Ad Topic Line</th>\n",
       "      <th>Gender</th>\n",
       "      <th>Country</th>\n",
       "      <th>Clicked on Ad</th>\n",
       "      <th>Age Group</th>\n",
       "    </tr>\n",
       "  </thead>\n",
       "  <tbody>\n",
       "    <tr>\n",
       "      <th>0</th>\n",
       "      <td>68.950000</td>\n",
       "      <td>35.0</td>\n",
       "      <td>61833.90</td>\n",
       "      <td>256.09</td>\n",
       "      <td>Cloned 5thgeneration orchestration</td>\n",
       "      <td>Female</td>\n",
       "      <td>Tunisia</td>\n",
       "      <td>Did Not Click</td>\n",
       "      <td>Adult (30 - 59)</td>\n",
       "    </tr>\n",
       "    <tr>\n",
       "      <th>1</th>\n",
       "      <td>65.009463</td>\n",
       "      <td>31.0</td>\n",
       "      <td>68441.85</td>\n",
       "      <td>193.77</td>\n",
       "      <td>Monitored national standardization</td>\n",
       "      <td>Male</td>\n",
       "      <td>Nauru</td>\n",
       "      <td>Did Not Click</td>\n",
       "      <td>Adult (30 - 59)</td>\n",
       "    </tr>\n",
       "    <tr>\n",
       "      <th>2</th>\n",
       "      <td>69.470000</td>\n",
       "      <td>26.0</td>\n",
       "      <td>59785.94</td>\n",
       "      <td>236.50</td>\n",
       "      <td>Organic bottom-line service-desk</td>\n",
       "      <td>Female</td>\n",
       "      <td>San Marino</td>\n",
       "      <td>Did Not Click</td>\n",
       "      <td>Young adult (21 - 29)</td>\n",
       "    </tr>\n",
       "    <tr>\n",
       "      <th>3</th>\n",
       "      <td>74.150000</td>\n",
       "      <td>29.0</td>\n",
       "      <td>54806.18</td>\n",
       "      <td>245.89</td>\n",
       "      <td>Triple-buffered reciprocal time-frame</td>\n",
       "      <td>Male</td>\n",
       "      <td>Italy</td>\n",
       "      <td>Did Not Click</td>\n",
       "      <td>Young adult (21 - 29)</td>\n",
       "    </tr>\n",
       "    <tr>\n",
       "      <th>4</th>\n",
       "      <td>68.370000</td>\n",
       "      <td>35.0</td>\n",
       "      <td>73889.99</td>\n",
       "      <td>225.58</td>\n",
       "      <td>Robust logistical utilization</td>\n",
       "      <td>Female</td>\n",
       "      <td>Iceland</td>\n",
       "      <td>Did Not Click</td>\n",
       "      <td>Adult (30 - 59)</td>\n",
       "    </tr>\n",
       "  </tbody>\n",
       "</table>\n",
       "</div>"
      ],
      "text/plain": [
       "   Daily Time Spent on Site   Age  Area Income  Daily Internet Usage  \\\n",
       "0                 68.950000  35.0     61833.90                256.09   \n",
       "1                 65.009463  31.0     68441.85                193.77   \n",
       "2                 69.470000  26.0     59785.94                236.50   \n",
       "3                 74.150000  29.0     54806.18                245.89   \n",
       "4                 68.370000  35.0     73889.99                225.58   \n",
       "\n",
       "                           Ad Topic Line  Gender     Country  Clicked on Ad  \\\n",
       "0     Cloned 5thgeneration orchestration  Female     Tunisia  Did Not Click   \n",
       "1     Monitored national standardization    Male       Nauru  Did Not Click   \n",
       "2       Organic bottom-line service-desk  Female  San Marino  Did Not Click   \n",
       "3  Triple-buffered reciprocal time-frame    Male       Italy  Did Not Click   \n",
       "4          Robust logistical utilization  Female     Iceland  Did Not Click   \n",
       "\n",
       "               Age Group  \n",
       "0        Adult (30 - 59)  \n",
       "1        Adult (30 - 59)  \n",
       "2  Young adult (21 - 29)  \n",
       "3  Young adult (21 - 29)  \n",
       "4        Adult (30 - 59)  "
      ]
     },
     "execution_count": 86,
     "metadata": {},
     "output_type": "execute_result"
    }
   ],
   "source": [
    "df.head()"
   ]
  },
  {
   "cell_type": "code",
   "execution_count": 87,
   "id": "48976e0e",
   "metadata": {},
   "outputs": [
    {
     "data": {
      "text/plain": [
       "Age      \n",
       "31.000000    58\n",
       "36.000000    50\n",
       "28.000000    48\n",
       "29.000000    47\n",
       "33.000000    43\n",
       "34.000000    40\n",
       "32.000000    37\n",
       "30.000000    37\n",
       "35.000000    37\n",
       "26.000000    36\n",
       "38.000000    35\n",
       "40.000000    34\n",
       "37.000000    33\n",
       "27.000000    32\n",
       "41.000000    31\n",
       "39.000000    30\n",
       "45.000000    29\n",
       "25.000000    25\n",
       "42.000000    25\n",
       "43.000000    23\n",
       "24.000000    21\n",
       "44.000000    21\n",
       "50.000000    20\n",
       "23.000000    18\n",
       "49.000000    18\n",
       "46.000000    18\n",
       "48.000000    16\n",
       "52.000000    14\n",
       "22.000000    13\n",
       "47.000000    12\n",
       "51.000000    12\n",
       "35.962926    11\n",
       "53.000000    10\n",
       "54.000000     9\n",
       "55.000000     7\n",
       "19.000000     6\n",
       "20.000000     6\n",
       "21.000000     5\n",
       "57.000000     5\n",
       "58.000000     4\n",
       "60.000000     4\n",
       "56.000000     2\n",
       "59.000000     2\n",
       "61.000000     1\n",
       "dtype: int64"
      ]
     },
     "execution_count": 87,
     "metadata": {},
     "output_type": "execute_result"
    }
   ],
   "source": [
    "## Now I need to determine the frecquencies\n",
    "\n",
    "df[[\"Age\"]].value_counts()"
   ]
  },
  {
   "cell_type": "code",
   "execution_count": 88,
   "id": "2bbe48c6",
   "metadata": {},
   "outputs": [
    {
     "data": {
      "text/plain": [
       "Gender\n",
       "Female    514\n",
       "Male      471\n",
       "dtype: int64"
      ]
     },
     "execution_count": 88,
     "metadata": {},
     "output_type": "execute_result"
    }
   ],
   "source": [
    "df[[\"Gender\"]].value_counts()"
   ]
  },
  {
   "cell_type": "code",
   "execution_count": 89,
   "id": "9dbaac6f",
   "metadata": {},
   "outputs": [
    {
     "data": {
      "text/plain": [
       "Clicked on Ad\n",
       "Clicked          499\n",
       "Did Not Click    486\n",
       "dtype: int64"
      ]
     },
     "execution_count": 89,
     "metadata": {},
     "output_type": "execute_result"
    }
   ],
   "source": [
    "df[[\"Clicked on Ad\"]].value_counts()"
   ]
  },
  {
   "cell_type": "code",
   "execution_count": 90,
   "id": "6fffdc0c",
   "metadata": {},
   "outputs": [
    {
     "data": {
      "text/plain": [
       "Country              \n",
       "France                   9\n",
       "Czech Republic           9\n",
       "Afghanistan              8\n",
       "Australia                8\n",
       "Turkey                   8\n",
       "                        ..\n",
       "Mozambique               1\n",
       "Norway                   1\n",
       "Romania                  1\n",
       "Saint Kitts and Nevis    1\n",
       "Aruba                    1\n",
       "Length: 237, dtype: int64"
      ]
     },
     "execution_count": 90,
     "metadata": {},
     "output_type": "execute_result"
    }
   ],
   "source": [
    "df[[\"Country\"]].value_counts()"
   ]
  },
  {
   "cell_type": "code",
   "execution_count": 91,
   "id": "706f3951",
   "metadata": {},
   "outputs": [
    {
     "data": {
      "text/plain": [
       "Area Income \n",
       "54958.573617    11\n",
       "51257.260000     2\n",
       "29875.800000     2\n",
       "47338.940000     2\n",
       "40763.130000     2\n",
       "                ..\n",
       "51013.370000     1\n",
       "51015.110000     1\n",
       "51049.470000     1\n",
       "51067.540000     1\n",
       "79484.800000     1\n",
       "Length: 971, dtype: int64"
      ]
     },
     "execution_count": 91,
     "metadata": {},
     "output_type": "execute_result"
    }
   ],
   "source": [
    "df[[\"Area Income\"]].value_counts()"
   ]
  },
  {
   "cell_type": "code",
   "execution_count": 92,
   "id": "bc9eb4c6",
   "metadata": {},
   "outputs": [
    {
     "data": {
      "text/html": [
       "<div>\n",
       "<style scoped>\n",
       "    .dataframe tbody tr th:only-of-type {\n",
       "        vertical-align: middle;\n",
       "    }\n",
       "\n",
       "    .dataframe tbody tr th {\n",
       "        vertical-align: top;\n",
       "    }\n",
       "\n",
       "    .dataframe thead th {\n",
       "        text-align: right;\n",
       "    }\n",
       "</style>\n",
       "<table border=\"1\" class=\"dataframe\">\n",
       "  <thead>\n",
       "    <tr style=\"text-align: right;\">\n",
       "      <th></th>\n",
       "      <th>Daily Time Spent on Site</th>\n",
       "      <th>Age</th>\n",
       "      <th>Area Income</th>\n",
       "      <th>Daily Internet Usage</th>\n",
       "    </tr>\n",
       "  </thead>\n",
       "  <tbody>\n",
       "    <tr>\n",
       "      <th>count</th>\n",
       "      <td>985.000000</td>\n",
       "      <td>985.000000</td>\n",
       "      <td>985.000000</td>\n",
       "      <td>985.000000</td>\n",
       "    </tr>\n",
       "    <tr>\n",
       "      <th>mean</th>\n",
       "      <td>64.950769</td>\n",
       "      <td>36.028012</td>\n",
       "      <td>54903.509787</td>\n",
       "      <td>179.657043</td>\n",
       "    </tr>\n",
       "    <tr>\n",
       "      <th>std</th>\n",
       "      <td>15.854897</td>\n",
       "      <td>8.736386</td>\n",
       "      <td>13318.279707</td>\n",
       "      <td>43.877146</td>\n",
       "    </tr>\n",
       "    <tr>\n",
       "      <th>min</th>\n",
       "      <td>32.600000</td>\n",
       "      <td>19.000000</td>\n",
       "      <td>13996.500000</td>\n",
       "      <td>104.780000</td>\n",
       "    </tr>\n",
       "    <tr>\n",
       "      <th>25%</th>\n",
       "      <td>51.300000</td>\n",
       "      <td>29.000000</td>\n",
       "      <td>46974.150000</td>\n",
       "      <td>138.680000</td>\n",
       "    </tr>\n",
       "    <tr>\n",
       "      <th>50%</th>\n",
       "      <td>68.010000</td>\n",
       "      <td>35.000000</td>\n",
       "      <td>56735.830000</td>\n",
       "      <td>181.250000</td>\n",
       "    </tr>\n",
       "    <tr>\n",
       "      <th>75%</th>\n",
       "      <td>78.540000</td>\n",
       "      <td>42.000000</td>\n",
       "      <td>65227.790000</td>\n",
       "      <td>218.170000</td>\n",
       "    </tr>\n",
       "    <tr>\n",
       "      <th>max</th>\n",
       "      <td>91.430000</td>\n",
       "      <td>61.000000</td>\n",
       "      <td>79484.800000</td>\n",
       "      <td>269.960000</td>\n",
       "    </tr>\n",
       "  </tbody>\n",
       "</table>\n",
       "</div>"
      ],
      "text/plain": [
       "       Daily Time Spent on Site         Age   Area Income  \\\n",
       "count                985.000000  985.000000    985.000000   \n",
       "mean                  64.950769   36.028012  54903.509787   \n",
       "std                   15.854897    8.736386  13318.279707   \n",
       "min                   32.600000   19.000000  13996.500000   \n",
       "25%                   51.300000   29.000000  46974.150000   \n",
       "50%                   68.010000   35.000000  56735.830000   \n",
       "75%                   78.540000   42.000000  65227.790000   \n",
       "max                   91.430000   61.000000  79484.800000   \n",
       "\n",
       "       Daily Internet Usage  \n",
       "count            985.000000  \n",
       "mean             179.657043  \n",
       "std               43.877146  \n",
       "min              104.780000  \n",
       "25%              138.680000  \n",
       "50%              181.250000  \n",
       "75%              218.170000  \n",
       "max              269.960000  "
      ]
     },
     "execution_count": 92,
     "metadata": {},
     "output_type": "execute_result"
    }
   ],
   "source": [
    "## Determining the: \n",
    "\n",
    "## Mean\n",
    "## Median\n",
    "## Mode\n",
    "## Standard Deviation\n",
    "## Range\n",
    "\n",
    "## of the dataset\n",
    "\n",
    "df.describe()"
   ]
  },
  {
   "cell_type": "code",
   "execution_count": 93,
   "id": "e6aff5c2",
   "metadata": {},
   "outputs": [
    {
     "name": "stdout",
     "output_type": "stream",
     "text": [
      "<class 'pandas.core.frame.DataFrame'>\n",
      "Int64Index: 985 entries, 0 to 1008\n",
      "Data columns (total 9 columns):\n",
      " #   Column                    Non-Null Count  Dtype   \n",
      "---  ------                    --------------  -----   \n",
      " 0   Daily Time Spent on Site  985 non-null    float64 \n",
      " 1   Age                       985 non-null    float64 \n",
      " 2   Area Income               985 non-null    float64 \n",
      " 3   Daily Internet Usage      985 non-null    float64 \n",
      " 4   Ad Topic Line             985 non-null    object  \n",
      " 5   Gender                    985 non-null    object  \n",
      " 6   Country                   985 non-null    object  \n",
      " 7   Clicked on Ad             985 non-null    object  \n",
      " 8   Age Group                 985 non-null    category\n",
      "dtypes: category(1), float64(4), object(4)\n",
      "memory usage: 70.4+ KB\n"
     ]
    }
   ],
   "source": [
    "df.info()"
   ]
  },
  {
   "cell_type": "code",
   "execution_count": 94,
   "id": "2bcdb519",
   "metadata": {},
   "outputs": [
    {
     "data": {
      "text/html": [
       "<div>\n",
       "<style scoped>\n",
       "    .dataframe tbody tr th:only-of-type {\n",
       "        vertical-align: middle;\n",
       "    }\n",
       "\n",
       "    .dataframe tbody tr th {\n",
       "        vertical-align: top;\n",
       "    }\n",
       "\n",
       "    .dataframe thead th {\n",
       "        text-align: right;\n",
       "    }\n",
       "</style>\n",
       "<table border=\"1\" class=\"dataframe\">\n",
       "  <thead>\n",
       "    <tr style=\"text-align: right;\">\n",
       "      <th>Clicked on Ad</th>\n",
       "      <th>Clicked</th>\n",
       "      <th>Did Not Click</th>\n",
       "      <th>All</th>\n",
       "    </tr>\n",
       "    <tr>\n",
       "      <th>Gender</th>\n",
       "      <th></th>\n",
       "      <th></th>\n",
       "      <th></th>\n",
       "    </tr>\n",
       "  </thead>\n",
       "  <tbody>\n",
       "    <tr>\n",
       "      <th>Female</th>\n",
       "      <td>268</td>\n",
       "      <td>246</td>\n",
       "      <td>514</td>\n",
       "    </tr>\n",
       "    <tr>\n",
       "      <th>Male</th>\n",
       "      <td>231</td>\n",
       "      <td>240</td>\n",
       "      <td>471</td>\n",
       "    </tr>\n",
       "    <tr>\n",
       "      <th>All</th>\n",
       "      <td>499</td>\n",
       "      <td>486</td>\n",
       "      <td>985</td>\n",
       "    </tr>\n",
       "  </tbody>\n",
       "</table>\n",
       "</div>"
      ],
      "text/plain": [
       "Clicked on Ad  Clicked  Did Not Click  All\n",
       "Gender                                    \n",
       "Female             268            246  514\n",
       "Male               231            240  471\n",
       "All                499            486  985"
      ]
     },
     "execution_count": 94,
     "metadata": {},
     "output_type": "execute_result"
    }
   ],
   "source": [
    "## How many women and men click on the advertisements\n",
    "\n",
    "pd.crosstab(df[\"Gender\"], df[\"Clicked on Ad\"], margins = True)"
   ]
  },
  {
   "cell_type": "code",
   "execution_count": 95,
   "id": "dd55089b",
   "metadata": {},
   "outputs": [
    {
     "data": {
      "text/html": [
       "<div>\n",
       "<style scoped>\n",
       "    .dataframe tbody tr th:only-of-type {\n",
       "        vertical-align: middle;\n",
       "    }\n",
       "\n",
       "    .dataframe tbody tr th {\n",
       "        vertical-align: top;\n",
       "    }\n",
       "\n",
       "    .dataframe thead th {\n",
       "        text-align: right;\n",
       "    }\n",
       "</style>\n",
       "<table border=\"1\" class=\"dataframe\">\n",
       "  <thead>\n",
       "    <tr style=\"text-align: right;\">\n",
       "      <th>Clicked on Ad</th>\n",
       "      <th>Clicked</th>\n",
       "      <th>Did Not Click</th>\n",
       "      <th>All</th>\n",
       "    </tr>\n",
       "    <tr>\n",
       "      <th>Age Group</th>\n",
       "      <th></th>\n",
       "      <th></th>\n",
       "      <th></th>\n",
       "    </tr>\n",
       "  </thead>\n",
       "  <tbody>\n",
       "    <tr>\n",
       "      <th>Young (13 - 20)</th>\n",
       "      <td>2</td>\n",
       "      <td>15</td>\n",
       "      <td>17</td>\n",
       "    </tr>\n",
       "    <tr>\n",
       "      <th>Young adult (21 - 29)</th>\n",
       "      <td>79</td>\n",
       "      <td>198</td>\n",
       "      <td>277</td>\n",
       "    </tr>\n",
       "    <tr>\n",
       "      <th>Adult (30 - 59)</th>\n",
       "      <td>417</td>\n",
       "      <td>273</td>\n",
       "      <td>690</td>\n",
       "    </tr>\n",
       "    <tr>\n",
       "      <th>Senior (60 +)</th>\n",
       "      <td>1</td>\n",
       "      <td>0</td>\n",
       "      <td>1</td>\n",
       "    </tr>\n",
       "    <tr>\n",
       "      <th>All</th>\n",
       "      <td>499</td>\n",
       "      <td>486</td>\n",
       "      <td>985</td>\n",
       "    </tr>\n",
       "  </tbody>\n",
       "</table>\n",
       "</div>"
      ],
      "text/plain": [
       "Clicked on Ad          Clicked  Did Not Click  All\n",
       "Age Group                                         \n",
       "Young (13 - 20)              2             15   17\n",
       "Young adult (21 - 29)       79            198  277\n",
       "Adult (30 - 59)            417            273  690\n",
       "Senior (60 +)                1              0    1\n",
       "All                        499            486  985"
      ]
     },
     "execution_count": 95,
     "metadata": {},
     "output_type": "execute_result"
    }
   ],
   "source": [
    "## how many people by group of age clicked on the advertisements\n",
    "pd.crosstab(df[\"Age Group\"], df[\"Clicked on Ad\"], margins = True)"
   ]
  },
  {
   "cell_type": "code",
   "execution_count": 96,
   "id": "3e36991d",
   "metadata": {},
   "outputs": [
    {
     "data": {
      "text/html": [
       "<div>\n",
       "<style scoped>\n",
       "    .dataframe tbody tr th:only-of-type {\n",
       "        vertical-align: middle;\n",
       "    }\n",
       "\n",
       "    .dataframe tbody tr th {\n",
       "        vertical-align: top;\n",
       "    }\n",
       "\n",
       "    .dataframe thead th {\n",
       "        text-align: right;\n",
       "    }\n",
       "</style>\n",
       "<table border=\"1\" class=\"dataframe\">\n",
       "  <thead>\n",
       "    <tr style=\"text-align: right;\">\n",
       "      <th>Clicked on Ad</th>\n",
       "      <th>Clicked</th>\n",
       "      <th>Did Not Click</th>\n",
       "      <th>All</th>\n",
       "    </tr>\n",
       "    <tr>\n",
       "      <th>Country</th>\n",
       "      <th></th>\n",
       "      <th></th>\n",
       "      <th></th>\n",
       "    </tr>\n",
       "  </thead>\n",
       "  <tbody>\n",
       "    <tr>\n",
       "      <th>Afghanistan</th>\n",
       "      <td>5</td>\n",
       "      <td>3</td>\n",
       "      <td>8</td>\n",
       "    </tr>\n",
       "    <tr>\n",
       "      <th>Albania</th>\n",
       "      <td>4</td>\n",
       "      <td>3</td>\n",
       "      <td>7</td>\n",
       "    </tr>\n",
       "    <tr>\n",
       "      <th>Algeria</th>\n",
       "      <td>3</td>\n",
       "      <td>3</td>\n",
       "      <td>6</td>\n",
       "    </tr>\n",
       "    <tr>\n",
       "      <th>American Samoa</th>\n",
       "      <td>3</td>\n",
       "      <td>2</td>\n",
       "      <td>5</td>\n",
       "    </tr>\n",
       "    <tr>\n",
       "      <th>Andorra</th>\n",
       "      <td>2</td>\n",
       "      <td>0</td>\n",
       "      <td>2</td>\n",
       "    </tr>\n",
       "    <tr>\n",
       "      <th>...</th>\n",
       "      <td>...</td>\n",
       "      <td>...</td>\n",
       "      <td>...</td>\n",
       "    </tr>\n",
       "    <tr>\n",
       "      <th>Western Sahara</th>\n",
       "      <td>4</td>\n",
       "      <td>3</td>\n",
       "      <td>7</td>\n",
       "    </tr>\n",
       "    <tr>\n",
       "      <th>Yemen</th>\n",
       "      <td>2</td>\n",
       "      <td>1</td>\n",
       "      <td>3</td>\n",
       "    </tr>\n",
       "    <tr>\n",
       "      <th>Zambia</th>\n",
       "      <td>3</td>\n",
       "      <td>1</td>\n",
       "      <td>4</td>\n",
       "    </tr>\n",
       "    <tr>\n",
       "      <th>Zimbabwe</th>\n",
       "      <td>4</td>\n",
       "      <td>2</td>\n",
       "      <td>6</td>\n",
       "    </tr>\n",
       "    <tr>\n",
       "      <th>All</th>\n",
       "      <td>499</td>\n",
       "      <td>486</td>\n",
       "      <td>985</td>\n",
       "    </tr>\n",
       "  </tbody>\n",
       "</table>\n",
       "<p>238 rows × 3 columns</p>\n",
       "</div>"
      ],
      "text/plain": [
       "Clicked on Ad   Clicked  Did Not Click  All\n",
       "Country                                    \n",
       "Afghanistan           5              3    8\n",
       "Albania               4              3    7\n",
       "Algeria               3              3    6\n",
       "American Samoa        3              2    5\n",
       "Andorra               2              0    2\n",
       "...                 ...            ...  ...\n",
       "Western Sahara        4              3    7\n",
       "Yemen                 2              1    3\n",
       "Zambia                3              1    4\n",
       "Zimbabwe              4              2    6\n",
       "All                 499            486  985\n",
       "\n",
       "[238 rows x 3 columns]"
      ]
     },
     "execution_count": 96,
     "metadata": {},
     "output_type": "execute_result"
    }
   ],
   "source": [
    "pd.crosstab(df[\"Country\"], df[\"Clicked on Ad\"], margins = True)"
   ]
  },
  {
   "cell_type": "code",
   "execution_count": 97,
   "id": "c7ebfcc9",
   "metadata": {},
   "outputs": [
    {
     "data": {
      "text/plain": [
       "Text(0.5, 1.0, 'People who clicked on the AD by Gender')"
      ]
     },
     "execution_count": 97,
     "metadata": {},
     "output_type": "execute_result"
    },
    {
     "data": {
      "image/png": "[encoded data removed]",
      "text/plain": [
       "<Figure size 432x288 with 1 Axes>"
      ]
     },
     "metadata": {
      "needs_background": "light"
     },
     "output_type": "display_data"
    }
   ],
   "source": [
    "## Visualization\n",
    "\n",
    "sns.countplot(data = df, x = \"Clicked on Ad\", hue = \"Gender\")\n",
    "plt.title('People who clicked on the AD by Gender')"
   ]
  },
  {
   "cell_type": "code",
   "execution_count": 98,
   "id": "8177a929",
   "metadata": {},
   "outputs": [
    {
     "data": {
      "text/plain": [
       "Text(0.5, 1.0, 'People who clicked on the AD by Age Group')"
      ]
     },
     "execution_count": 98,
     "metadata": {},
     "output_type": "execute_result"
    },
    {
     "data": {
      "image/png": "[encoded data removed]",
      "text/plain": [
       "<Figure size 432x288 with 1 Axes>"
      ]
     },
     "metadata": {
      "needs_background": "light"
     },
     "output_type": "display_data"
    }
   ],
   "source": [
    "sns.countplot(data = df, x = \"Clicked on Ad\", hue = \"Age Group\")\n",
    "plt.title('People who clicked on the AD by Age Group')"
   ]
  },
  {
   "cell_type": "code",
   "execution_count": 99,
   "id": "5f3aee41",
   "metadata": {},
   "outputs": [
    {
     "data": {
      "text/plain": [
       "Text(0.5, 1.0, 'People who clicked group by their income')"
      ]
     },
     "execution_count": 99,
     "metadata": {},
     "output_type": "execute_result"
    },
    {
     "data": {
      "image/png": "[encoded data removed]",
      "text/plain": [
       "<Figure size 1440x360 with 1 Axes>"
      ]
     },
     "metadata": {
      "needs_background": "light"
     },
     "output_type": "display_data"
    }
   ],
   "source": [
    "plt.figure(figsize=(20,5))\n",
    "\n",
    "sns.barplot(data = df, x = \"Clicked on Ad\", y = \"Area Income\", ci = None)\n",
    "\n",
    "plt.xticks(rotation = 45)\n",
    "plt.title('People who clicked group by their income')"
   ]
  },
  {
   "cell_type": "code",
   "execution_count": 100,
   "id": "941bad72",
   "metadata": {},
   "outputs": [
    {
     "data": {
      "text/plain": [
       "Text(0.5, 1.0, 'People who clicked group by their Age')"
      ]
     },
     "execution_count": 100,
     "metadata": {},
     "output_type": "execute_result"
    },
    {
     "data": {
      "image/png": "[encoded data removed]",
      "text/plain": [
       "<Figure size 1440x360 with 1 Axes>"
      ]
     },
     "metadata": {
      "needs_background": "light"
     },
     "output_type": "display_data"
    }
   ],
   "source": [
    "plt.figure(figsize=(20,5))\n",
    "\n",
    "sns.barplot(data = df, x = \"Clicked on Ad\", y = \"Age\", ci = None)\n",
    "\n",
    "plt.xticks(rotation = 45)\n",
    "plt.title('People who clicked group by their Age')"
   ]
  },
  {
   "cell_type": "code",
   "execution_count": 101,
   "id": "c04d746f",
   "metadata": {},
   "outputs": [
    {
     "data": {
      "text/plain": [
       "Text(0.5, 1.0, 'Daily Time Uses by Age Group Statistic')"
      ]
     },
     "execution_count": 101,
     "metadata": {},
     "output_type": "execute_result"
    },
    {
     "data": {
      "image/png": "[encoded data removed]",
      "text/plain": [
       "<Figure size 1440x720 with 1 Axes>"
      ]
     },
     "metadata": {
      "needs_background": "light"
     },
     "output_type": "display_data"
    }
   ],
   "source": [
    "plt.figure(figsize=(20,10))\n",
    "\n",
    "sns.barplot(data = df, x = \"Daily Time Spent on Site\", y = \"Clicked on Ad\", hue = \"Age Group\", ci = None)\n",
    "\n",
    "plt.xticks(rotation = -45)\n",
    "plt.title('Daily Time Uses by Age Group Statistic')"
   ]
  },
  {
   "cell_type": "code",
   "execution_count": 102,
   "id": "0a133080",
   "metadata": {},
   "outputs": [
    {
     "data": {
      "text/plain": [
       "Text(0.5, 1.0, 'Daily Time Uses by Gender Statistic')"
      ]
     },
     "execution_count": 102,
     "metadata": {},
     "output_type": "execute_result"
    },
    {
     "data": {
      "image/png": "[encoded data removed]",
      "text/plain": [
       "<Figure size 1440x720 with 1 Axes>"
      ]
     },
     "metadata": {
      "needs_background": "light"
     },
     "output_type": "display_data"
    }
   ],
   "source": [
    "plt.figure(figsize=(20,10))\n",
    "\n",
    "sns.barplot(data = df, x = \"Daily Time Spent on Site\", y = \"Clicked on Ad\", hue = \"Gender\", ci = None)\n",
    "\n",
    "plt.xticks(rotation = -45)\n",
    "plt.title('Daily Time Uses by Gender Statistic')"
   ]
  },
  {
   "cell_type": "code",
   "execution_count": null,
   "id": "2082e170",
   "metadata": {},
   "outputs": [],
   "source": []
  }
 ],
 "metadata": {
  "kernelspec": {
   "display_name": "Python 3 (ipykernel)",
   "language": "python",
   "name": "python3"
  },
  "language_info": {
   "codemirror_mode": {
    "name": "ipython",
    "version": 3
   },
   "file_extension": ".py",
   "mimetype": "text/x-python",
   "name": "python",
   "nbconvert_exporter": "python",
   "pygments_lexer": "ipython3",
   "version": "3.9.12"
  }
 },
 "nbformat": 4,
 "nbformat_minor": 5
}
